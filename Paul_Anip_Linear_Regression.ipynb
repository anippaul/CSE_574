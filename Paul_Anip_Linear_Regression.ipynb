{
 "cells": [
  {
   "cell_type": "code",
   "execution_count": 62,
   "id": "00034a6e",
   "metadata": {},
   "outputs": [],
   "source": [
    "# Import libraries\n",
    "import numpy as np\n",
    "import pandas as pd\n",
    "import pickle\n",
    "import matplotlib.pyplot as plt\n",
    "import seaborn as sns"
   ]
  },
  {
   "cell_type": "code",
   "execution_count": 63,
   "id": "996fe943",
   "metadata": {
    "scrolled": true
   },
   "outputs": [
    {
     "name": "stdout",
     "output_type": "stream",
     "text": [
      "      fixed acidity  volatile acidity  citric acid  residual sugar  chlorides  \\\n",
      "0               7.4             0.700         0.00             1.9      0.076   \n",
      "1               7.8             0.880         0.00             2.6      0.098   \n",
      "2               7.8             0.760         0.04             2.3      0.092   \n",
      "3              11.2             0.280         0.56             1.9      0.075   \n",
      "4               7.4             0.700         0.00             1.9      0.076   \n",
      "...             ...               ...          ...             ...        ...   \n",
      "1594            6.2             0.600         0.08             2.0      0.090   \n",
      "1595            5.9             0.550         0.10             2.2      0.062   \n",
      "1596            6.3             0.510         0.13             2.3      0.076   \n",
      "1597            5.9             0.645         0.12             2.0      0.075   \n",
      "1598            6.0             0.310         0.47             3.6      0.067   \n",
      "\n",
      "      free sulfur dioxide  total sulfur dioxide  density    pH  sulphates  \\\n",
      "0                    11.0                  34.0  0.99780  3.51       0.56   \n",
      "1                    25.0                  67.0  0.99680  3.20       0.68   \n",
      "2                    15.0                  54.0  0.99700  3.26       0.65   \n",
      "3                    17.0                  60.0  0.99800  3.16       0.58   \n",
      "4                    11.0                  34.0  0.99780  3.51       0.56   \n",
      "...                   ...                   ...      ...   ...        ...   \n",
      "1594                 32.0                  44.0  0.99490  3.45       0.58   \n",
      "1595                 39.0                  51.0  0.99512  3.52       0.76   \n",
      "1596                 29.0                  40.0  0.99574  3.42       0.75   \n",
      "1597                 32.0                  44.0  0.99547  3.57       0.71   \n",
      "1598                 18.0                  42.0  0.99549  3.39       0.66   \n",
      "\n",
      "      alcohol  quality  \n",
      "0         9.4        5  \n",
      "1         9.8        5  \n",
      "2         9.8        5  \n",
      "3         9.8        6  \n",
      "4         9.4        5  \n",
      "...       ...      ...  \n",
      "1594     10.5        5  \n",
      "1595     11.2        6  \n",
      "1596     11.0        6  \n",
      "1597     10.2        5  \n",
      "1598     11.0        6  \n",
      "\n",
      "[1599 rows x 12 columns]\n"
     ]
    }
   ],
   "source": [
    "# File read\n",
    "f_wdata = pd.read_csv(\"winequality-red.csv\")\n",
    "print(f_wdata)"
   ]
  },
  {
   "cell_type": "code",
   "execution_count": 87,
   "id": "28d9bd21",
   "metadata": {},
   "outputs": [
    {
     "data": {
      "text/html": [
       "<div>\n",
       "<style scoped>\n",
       "    .dataframe tbody tr th:only-of-type {\n",
       "        vertical-align: middle;\n",
       "    }\n",
       "\n",
       "    .dataframe tbody tr th {\n",
       "        vertical-align: top;\n",
       "    }\n",
       "\n",
       "    .dataframe thead th {\n",
       "        text-align: right;\n",
       "    }\n",
       "</style>\n",
       "<table border=\"1\" class=\"dataframe\">\n",
       "  <thead>\n",
       "    <tr style=\"text-align: right;\">\n",
       "      <th></th>\n",
       "      <th>fixed acidity</th>\n",
       "      <th>volatile acidity</th>\n",
       "      <th>citric acid</th>\n",
       "      <th>residual sugar</th>\n",
       "      <th>chlorides</th>\n",
       "      <th>free sulfur dioxide</th>\n",
       "      <th>total sulfur dioxide</th>\n",
       "      <th>density</th>\n",
       "      <th>pH</th>\n",
       "      <th>sulphates</th>\n",
       "      <th>alcohol</th>\n",
       "      <th>quality</th>\n",
       "    </tr>\n",
       "  </thead>\n",
       "  <tbody>\n",
       "  </tbody>\n",
       "</table>\n",
       "</div>"
      ],
      "text/plain": [
       "Empty DataFrame\n",
       "Columns: [fixed acidity, volatile acidity, citric acid, residual sugar, chlorides, free sulfur dioxide, total sulfur dioxide, density, pH, sulphates, alcohol, quality]\n",
       "Index: []"
      ]
     },
     "execution_count": 87,
     "metadata": {},
     "output_type": "execute_result"
    }
   ],
   "source": [
    "# Duplicate data\n",
    "duplicate_rows = f_wdata[f_wdata.duplicated(keep='first')]\n",
    "duplicate_rows"
   ]
  },
  {
   "cell_type": "code",
   "execution_count": 88,
   "id": "51f77ea7",
   "metadata": {},
   "outputs": [],
   "source": [
    "f_wdata = f_wdata.drop_duplicates(keep='first')\n"
   ]
  },
  {
   "cell_type": "code",
   "execution_count": 89,
   "id": "d030f3b5",
   "metadata": {},
   "outputs": [
    {
     "data": {
      "text/html": [
       "<div>\n",
       "<style scoped>\n",
       "    .dataframe tbody tr th:only-of-type {\n",
       "        vertical-align: middle;\n",
       "    }\n",
       "\n",
       "    .dataframe tbody tr th {\n",
       "        vertical-align: top;\n",
       "    }\n",
       "\n",
       "    .dataframe thead th {\n",
       "        text-align: right;\n",
       "    }\n",
       "</style>\n",
       "<table border=\"1\" class=\"dataframe\">\n",
       "  <thead>\n",
       "    <tr style=\"text-align: right;\">\n",
       "      <th></th>\n",
       "      <th>fixed acidity</th>\n",
       "      <th>volatile acidity</th>\n",
       "      <th>citric acid</th>\n",
       "      <th>residual sugar</th>\n",
       "      <th>chlorides</th>\n",
       "      <th>free sulfur dioxide</th>\n",
       "      <th>total sulfur dioxide</th>\n",
       "      <th>density</th>\n",
       "      <th>pH</th>\n",
       "      <th>sulphates</th>\n",
       "      <th>alcohol</th>\n",
       "      <th>quality</th>\n",
       "    </tr>\n",
       "  </thead>\n",
       "  <tbody>\n",
       "  </tbody>\n",
       "</table>\n",
       "</div>"
      ],
      "text/plain": [
       "Empty DataFrame\n",
       "Columns: [fixed acidity, volatile acidity, citric acid, residual sugar, chlorides, free sulfur dioxide, total sulfur dioxide, density, pH, sulphates, alcohol, quality]\n",
       "Index: []"
      ]
     },
     "execution_count": 89,
     "metadata": {},
     "output_type": "execute_result"
    }
   ],
   "source": [
    "# Duplicate data\n",
    "duplicate_rows = f_wdata[f_wdata.duplicated(keep='first')]\n",
    "duplicate_rows"
   ]
  },
  {
   "cell_type": "code",
   "execution_count": 90,
   "id": "4fca7a28",
   "metadata": {},
   "outputs": [
    {
     "name": "stdout",
     "output_type": "stream",
     "text": [
      "      fixed acidity  volatile acidity  citric acid  residual sugar  chlorides  \\\n",
      "0          0.247788          0.397260         0.00        0.068493   0.106845   \n",
      "1          0.283186          0.520548         0.00        0.116438   0.143573   \n",
      "2          0.283186          0.438356         0.04        0.095890   0.133556   \n",
      "3          0.584071          0.109589         0.56        0.068493   0.105175   \n",
      "4          0.247788          0.369863         0.00        0.061644   0.105175   \n",
      "...             ...               ...          ...             ...        ...   \n",
      "1354       0.194690          0.342466         0.08        0.068493   0.093489   \n",
      "1355       0.141593          0.328767         0.08        0.075342   0.130217   \n",
      "1356       0.115044          0.294521         0.10        0.089041   0.083472   \n",
      "1357       0.115044          0.359589         0.12        0.075342   0.105175   \n",
      "1358       0.123894          0.130137         0.47        0.184932   0.091820   \n",
      "\n",
      "      free sulfur dioxide  total sulfur dioxide   density        pH  \\\n",
      "0                0.140845              0.098940  0.567548  0.606299   \n",
      "1                0.338028              0.215548  0.494126  0.362205   \n",
      "2                0.197183              0.169611  0.508811  0.409449   \n",
      "3                0.225352              0.190813  0.582232  0.330709   \n",
      "4                0.169014              0.120141  0.567548  0.606299   \n",
      "...                   ...                   ...       ...       ...   \n",
      "1354             0.380282              0.113074  0.472834  0.535433   \n",
      "1355             0.436620              0.134276  0.354626  0.559055   \n",
      "1356             0.535211              0.159011  0.370778  0.614173   \n",
      "1357             0.436620              0.134276  0.396476  0.653543   \n",
      "1358             0.239437              0.127208  0.397944  0.511811   \n",
      "\n",
      "      sulphates   alcohol  quality  \n",
      "0      0.137725  0.153846        5  \n",
      "1      0.209581  0.215385        5  \n",
      "2      0.191617  0.215385        5  \n",
      "3      0.149701  0.215385        6  \n",
      "4      0.137725  0.153846        5  \n",
      "...         ...       ...      ...  \n",
      "1354   0.293413  0.169231        6  \n",
      "1355   0.149701  0.323077        5  \n",
      "1356   0.257485  0.430769        6  \n",
      "1357   0.227545  0.276923        5  \n",
      "1358   0.197605  0.400000        6  \n",
      "\n",
      "[1359 rows x 12 columns]\n"
     ]
    }
   ],
   "source": [
    "# Removing null values\n",
    "f_wdata = f_wdata.dropna().reset_index(drop=True)\n",
    "print(f_wdata)"
   ]
  },
  {
   "cell_type": "code",
   "execution_count": 91,
   "id": "c1fec2c9",
   "metadata": {},
   "outputs": [
    {
     "name": "stdout",
     "output_type": "stream",
     "text": [
      "       fixed acidity  volatile acidity  citric acid  residual sugar  \\\n",
      "count    1359.000000       1359.000000  1359.000000     1359.000000   \n",
      "mean        0.328371          0.280464     0.272333        0.111192   \n",
      "std         0.153716          0.125364     0.195537        0.092624   \n",
      "min         0.000000          0.000000     0.000000        0.000000   \n",
      "25%         0.221239          0.184932     0.090000        0.068493   \n",
      "50%         0.292035          0.273973     0.260000        0.089041   \n",
      "75%         0.407080          0.356164     0.430000        0.116438   \n",
      "max         1.000000          1.000000     1.000000        1.000000   \n",
      "\n",
      "         chlorides  free sulfur dioxide  total sulfur dioxide      density  \\\n",
      "count  1359.000000          1359.000000           1359.000000  1359.000000   \n",
      "mean      0.127085             0.209765              0.144261     0.487441   \n",
      "std       0.082432             0.147145              0.118053     0.137219   \n",
      "min       0.000000             0.000000              0.000000     0.000000   \n",
      "25%       0.096828             0.084507              0.056537     0.406021   \n",
      "50%       0.111853             0.183099              0.113074     0.486784   \n",
      "75%       0.131886             0.281690              0.201413     0.569016   \n",
      "max       1.000000             1.000000              1.000000     1.000000   \n",
      "\n",
      "                pH    sulphates      alcohol      quality  \n",
      "count  1359.000000  1359.000000  1359.000000  1359.000000  \n",
      "mean      0.448651     0.196829     0.312664     5.623252  \n",
      "std       0.122076     0.102196     0.166472     0.823578  \n",
      "min       0.000000     0.000000     0.000000     3.000000  \n",
      "25%       0.370079     0.131737     0.169231     5.000000  \n",
      "50%       0.448819     0.173653     0.276923     6.000000  \n",
      "75%       0.519685     0.239521     0.415385     6.000000  \n",
      "max       1.000000     1.000000     1.000000     8.000000  \n"
     ]
    }
   ],
   "source": [
    "# Describe statistics for the numeric column\n",
    "print(f_wdata.describe())"
   ]
  },
  {
   "cell_type": "code",
   "execution_count": 92,
   "id": "32f95ddc",
   "metadata": {},
   "outputs": [],
   "source": [
    "# Select features and target\n",
    "features = ['fixed acidity', 'volatile acidity', 'citric acid', 'residual sugar', 'chlorides', \n",
    "            'free sulfur dioxide', 'total sulfur dioxide', 'density', 'pH', 'sulphates', 'alcohol']\n",
    "target = 'quality'"
   ]
  },
  {
   "cell_type": "code",
   "execution_count": 105,
   "id": "5a2a0175",
   "metadata": {},
   "outputs": [],
   "source": [
    "# Data matrix X and y\n",
    "X = f_wdata[features]\n",
    "y = f_wdata[target]"
   ]
  },
  {
   "cell_type": "code",
   "execution_count": 94,
   "id": "a90a1812",
   "metadata": {},
   "outputs": [
    {
     "name": "stdout",
     "output_type": "stream",
     "text": [
      "0       5\n",
      "1       5\n",
      "2       5\n",
      "3       6\n",
      "4       5\n",
      "       ..\n",
      "1354    6\n",
      "1355    5\n",
      "1356    6\n",
      "1357    5\n",
      "1358    6\n",
      "Name: quality, Length: 1359, dtype: int64\n"
     ]
    }
   ],
   "source": [
    "print(y)"
   ]
  },
  {
   "cell_type": "code",
   "execution_count": 95,
   "id": "084da043",
   "metadata": {},
   "outputs": [],
   "source": [
    "# Normalize non-categorical features\n",
    "def normalizing(column):\n",
    "    maximum_value = column.max()\n",
    "    minimum_value = column.min()\n",
    "    a = column - minimum_value\n",
    "    b = maximum_value - minimum_value\n",
    "    column = a / b\n",
    "    return column"
   ]
  },
  {
   "cell_type": "code",
   "execution_count": 96,
   "id": "5b9e7f82",
   "metadata": {},
   "outputs": [],
   "source": [
    "# Normalizing function \n",
    "f_wdata['fixed acidity'] = normalizing(f_wdata[\"fixed acidity\"])\n",
    "f_wdata['volatile acidity'] = normalizing(f_wdata[\"volatile acidity\"])\n",
    "f_wdata['citric acid'] = normalizing(f_wdata[\"citric acid\"])\n",
    "f_wdata['residual sugar'] = normalizing(f_wdata[\"residual sugar\"])\n",
    "f_wdata['chlorides'] = normalizing(f_wdata[\"chlorides\"])\n",
    "f_wdata['free sulfur dioxide'] = normalizing(f_wdata[\"free sulfur dioxide\"])\n",
    "f_wdata['total sulfur dioxide'] = normalizing(f_wdata[\"total sulfur dioxide\"])\n",
    "f_wdata['density'] = normalizing(f_wdata[\"density\"])\n",
    "f_wdata['pH'] = normalizing(f_wdata[\"pH\"])\n",
    "f_wdata['sulphates'] = normalizing(f_wdata[\"sulphates\"])\n",
    "f_wdata['alcohol'] = normalizing(f_wdata[\"alcohol\"])\n",
    "#f_wdata['quality'] = normalizing(f_wdata[\"quality\"])"
   ]
  },
  {
   "cell_type": "code",
   "execution_count": 97,
   "id": "cd2b9e12",
   "metadata": {},
   "outputs": [],
   "source": [
    "# Divide the dataset into training (80%) and test (20%)\n",
    "devide = 0.8  # training data (80%)\n",
    "\n",
    "datasample = len(f_wdata)\n",
    "train_data = int(datasample * devide)\n",
    "test_data = datasample - train_data\n",
    "\n",
    "X_train = X.iloc[:train_data]\n",
    "y_train = y.iloc[:train_data]\n",
    "X_test = X.iloc[train_data:]\n",
    "y_test = y.iloc[train_data:]"
   ]
  },
  {
   "cell_type": "code",
   "execution_count": 98,
   "id": "177a82c9",
   "metadata": {},
   "outputs": [
    {
     "name": "stdout",
     "output_type": "stream",
     "text": [
      "X_train shape: (1087, 11)\n",
      "y_train shape: (1087,)\n",
      "X_test shape: (272, 11)\n",
      "y_test shape: (272,)\n"
     ]
    }
   ],
   "source": [
    "# Print training and test data shape\n",
    "print(\"X_train shape:\", X_train.shape)\n",
    "print(\"y_train shape:\", y_train.shape)\n",
    "print(\"X_test shape:\", X_test.shape)\n",
    "print(\"y_test shape:\", y_test.shape)"
   ]
  },
  {
   "cell_type": "code",
   "execution_count": 99,
   "id": "03972304",
   "metadata": {},
   "outputs": [],
   "source": [
    "# Calculate w\n",
    "\n",
    "X_trp = X.T                           # Transpose of the feature matrix X\n",
    "X_trp_X = X_trp.dot(X)                # Determine X^T X\n",
    "X_trp_X_inv = np.linalg.inv(X_trp_X)  # Determine the inverse of X^T X\n",
    "X_trp_y = X_trp.dot(y)                # Determine the X^T y\n",
    "w = X_trp_X_inv.dot(X_trp_y)          # Calculate the weight vector w"
   ]
  },
  {
   "cell_type": "code",
   "execution_count": 100,
   "id": "675ec64c",
   "metadata": {},
   "outputs": [
    {
     "name": "stdout",
     "output_type": "stream",
     "text": [
      "[ 3.30331065 -0.08301671  0.37956193 -0.33712806  1.11505886  0.55397664\n",
      "  0.59463992  1.01208134  4.92096006  2.2137194   3.03800802]\n"
     ]
    }
   ],
   "source": [
    "print (w)"
   ]
  },
  {
   "cell_type": "code",
   "execution_count": 101,
   "id": "64b7aca1",
   "metadata": {},
   "outputs": [
    {
     "name": "stdout",
     "output_type": "stream",
     "text": [
      "1087    4.615680\n",
      "1088    5.741275\n",
      "1089    4.656492\n",
      "1090    5.422837\n",
      "1091    5.394568\n",
      "          ...   \n",
      "1354    5.281168\n",
      "1355    5.335223\n",
      "1356    6.123900\n",
      "1357    5.771663\n",
      "1358    5.399173\n",
      "Length: 272, dtype: float64\n"
     ]
    }
   ],
   "source": [
    "# Evaluate the predicted value of y\n",
    "y_predict = X_test.dot(w)\n",
    "print(y_predict)"
   ]
  },
  {
   "cell_type": "code",
   "execution_count": 102,
   "id": "8a694deb",
   "metadata": {},
   "outputs": [
    {
     "name": "stdout",
     "output_type": "stream",
     "text": [
      "0.8111520631916286\n"
     ]
    }
   ],
   "source": [
    "# Evaluate the mean squared error (MSE)\n",
    "\n",
    "residuals = y_test - y_predict\n",
    "MSE = (1 / len(y_test)) * np.sum(residuals**2)\n",
    "print(MSE)"
   ]
  },
  {
   "cell_type": "code",
   "execution_count": 103,
   "id": "0fd3dcb4",
   "metadata": {},
   "outputs": [
    {
     "name": "stdout",
     "output_type": "stream",
     "text": [
      "1087    6\n",
      "1088    4\n",
      "1089    6\n",
      "1090    7\n",
      "1091    6\n",
      "       ..\n",
      "1354    6\n",
      "1355    5\n",
      "1356    6\n",
      "1357    5\n",
      "1358    6\n",
      "Name: quality, Length: 272, dtype: int64 1087    4.615680\n",
      "1088    5.741275\n",
      "1089    4.656492\n",
      "1090    5.422837\n",
      "1091    5.394568\n",
      "          ...   \n",
      "1354    5.281168\n",
      "1355    5.335223\n",
      "1356    6.123900\n",
      "1357    5.771663\n",
      "1358    5.399173\n",
      "Length: 272, dtype: float64\n"
     ]
    }
   ],
   "source": [
    "print(y_test, y_predict)"
   ]
  },
  {
   "cell_type": "code",
   "execution_count": 104,
   "id": "0d3618e0",
   "metadata": {},
   "outputs": [
    {
     "data": {
      "image/png": "[encoded data removed]",
      "text/plain": [
       "<Figure size 640x480 with 1 Axes>"
      ]
     },
     "metadata": {},
     "output_type": "display_data"
    }
   ],
   "source": [
    "# Plot prediction vs the actual data values\n",
    "plt.scatter(y_test, y_predict, c='m')\n",
    "plt.xlabel(\"Actual Data Values (Ground Truth)\")\n",
    "plt.ylabel(\"Predictions\")\n",
    "plt.title(\"Predictions vs. Actual Data Values\")\n",
    "plt.plot([min(y_test), max(y_test)], [min(y_test), max(y_test)], 'r--')\n",
    "plt.show()"
   ]
  },
  {
   "cell_type": "code",
   "execution_count": 82,
   "id": "fb201fcb",
   "metadata": {},
   "outputs": [
    {
     "name": "stdout",
     "output_type": "stream",
     "text": [
      "Loss value for training data\n",
      "0.4211216191436954\n",
      "Final weight vector\n",
      "[-1.36335262e-03 -1.11956532e+00 -1.61990282e-01 -2.45979946e-03\n",
      " -1.75365693e+00  2.21020686e-03 -3.12971515e-03  4.29280037e+00\n",
      " -4.56531803e-01  7.37977929e-01  3.17577225e-01]\n"
     ]
    }
   ],
   "source": [
    " # Loss value for training data and the weight vector.\n",
    "X_train_trp = X_train.T                                      # Transpose of the matrix X_train\n",
    "X_train_trp_X_train = X_train_trp.dot(X_train)               # Determine X_train^T X_train\n",
    "X_train_trp_X_train_inv = np.linalg.inv(X_train_trp_X_train) # Determine the inverse of X^T X\n",
    "X_train_trp_y_train = X_train_trp.dot(y_train)               # Determine the X^T y\n",
    "w_train = X_train_trp_X_train_inv.dot(X_train_trp_y_train)   # Calculate the weight vector w\n",
    "\n",
    "y_train_predict = X_train.dot(w_train)                       # Predicted value of y_train\n",
    "residuals_train = y_train - y_train_predict                  # Residuals for training data\n",
    "mse_train = (1 / len(y_train)) * np.sum(residuals_train**2)  # Mean Squared Error (MSE) for training data\n",
    "\n",
    "print('Loss value for training data')\n",
    "print(mse_train)\n",
    "print('Final weight vector')\n",
    "print(w_train)"
   ]
  },
  {
   "cell_type": "code",
   "execution_count": 106,
   "id": "2033aa31",
   "metadata": {},
   "outputs": [
    {
     "data": {
      "image/png": "[encoded data removed]",
      "text/plain": [
       "<Figure size 640x480 with 1 Axes>"
      ]
     },
     "metadata": {},
     "output_type": "display_data"
    }
   ],
   "source": [
    "# Plot by comparing the predictions vs the actual test data.\n",
    "\n",
    "plt.scatter(y_test, y_predict, c='b', label='Predictions', alpha=0.5)  # Predicted data\n",
    "plt.scatter(y_test, y_test, c='r', label='Actual Data', alpha=0.5)     # Actual test data\n",
    "plt.xlabel(\"Actual Data (Ground Truth)\")\n",
    "plt.ylabel(\"Predictions\")\n",
    "plt.title(\"Predictions vs. Actual Data\")\n",
    "plt.plot([min(y_test), max(y_test)], [min(y_test), max(y_test)], 'g-')\n",
    "plt.legend()\n",
    "plt.show()"
   ]
  },
  {
   "cell_type": "code",
   "execution_count": null,
   "id": "86ce8d11",
   "metadata": {},
   "outputs": [],
   "source": []
  }
 ],
 "metadata": {
  "kernelspec": {
   "display_name": "Python 3 (ipykernel)",
   "language": "python",
   "name": "python3"
  },
  "language_info": {
   "codemirror_mode": {
    "name": "ipython",
    "version": 3
   },
   "file_extension": ".py",
   "mimetype": "text/x-python",
   "name": "python",
   "nbconvert_exporter": "python",
   "pygments_lexer": "ipython3",
   "version": "3.9.13"
  }
 },
 "nbformat": 4,
 "nbformat_minor": 5
}
