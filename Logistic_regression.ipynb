{
 "cells": [
  {
   "cell_type": "code",
   "execution_count": 1,
   "id": "8744b724",
   "metadata": {},
   "outputs": [],
   "source": [
    "# Import libraries\n",
    "import numpy as np\n",
    "import pandas as pd\n",
    "import pickle\n",
    "import matplotlib.pyplot as plt\n",
    "import seaborn as sns"
   ]
  },
  {
   "cell_type": "code",
   "execution_count": 2,
   "id": "ccb1fa5e",
   "metadata": {},
   "outputs": [],
   "source": [
    "# Reading and preprocessing the file (removing the Null values)\n",
    "f_data = pd.read_csv(\"penguins.csv\")"
   ]
  },
  {
   "cell_type": "code",
   "execution_count": 3,
   "id": "007b1a11",
   "metadata": {
    "scrolled": true
   },
   "outputs": [
    {
     "name": "stdout",
     "output_type": "stream",
     "text": [
      "       species     island  bill_length_mm  bill_depth_mm  flipper_length_mm  \\\n",
      "0       Adelie  Torgersen            39.1           18.7              181.0   \n",
      "1       Adelie  Torgersen            39.5           17.4              186.0   \n",
      "2       Adelie  Torgersen            40.3           18.0              195.0   \n",
      "3       Adelie  Torgersen             NaN            NaN                NaN   \n",
      "4       Adelie  Torgersen            36.7           19.3              193.0   \n",
      "..         ...        ...             ...            ...                ...   \n",
      "339  Chinstrap      Dream            55.8           19.8              207.0   \n",
      "340  Chinstrap      Dream            43.5           18.1              202.0   \n",
      "341  Chinstrap      Dream            49.6           18.2              193.0   \n",
      "342  Chinstrap      Dream            50.8           19.0              210.0   \n",
      "343  Chinstrap      Dream            50.2           18.7              198.0   \n",
      "\n",
      "     body_mass_g     sex  year  \n",
      "0         3750.0    male  2007  \n",
      "1         3800.0  female  2007  \n",
      "2         3250.0  female  2007  \n",
      "3            NaN     NaN  2007  \n",
      "4         3450.0  female  2007  \n",
      "..           ...     ...   ...  \n",
      "339       4000.0    male  2009  \n",
      "340       3400.0  female  2009  \n",
      "341       3775.0    male  2009  \n",
      "342       4100.0    male  2009  \n",
      "343       3775.0  female  2009  \n",
      "\n",
      "[344 rows x 8 columns]\n"
     ]
    }
   ],
   "source": [
    "print(f_data)"
   ]
  },
  {
   "cell_type": "code",
   "execution_count": 4,
   "id": "f5e83be2",
   "metadata": {},
   "outputs": [
    {
     "name": "stdout",
     "output_type": "stream",
     "text": [
      "Sum of missing entries from each column:\n",
      "species               0\n",
      "island                0\n",
      "bill_length_mm        2\n",
      "bill_depth_mm         2\n",
      "flipper_length_mm     2\n",
      "body_mass_g           2\n",
      "sex                  11\n",
      "year                  0\n",
      "dtype: int64\n"
     ]
    }
   ],
   "source": [
    "# Determine the sum of missing entries\n",
    "m_sum = f_data.isnull().sum()\n",
    "print(\"Sum of missing entries from each column:\")\n",
    "print(m_sum)"
   ]
  },
  {
   "cell_type": "code",
   "execution_count": 5,
   "id": "27595ad6",
   "metadata": {},
   "outputs": [
    {
     "name": "stdout",
     "output_type": "stream",
     "text": [
      "       species     island  bill_length_mm  bill_depth_mm  flipper_length_mm  \\\n",
      "0       Adelie  Torgersen            39.1           18.7              181.0   \n",
      "1       Adelie  Torgersen            39.5           17.4              186.0   \n",
      "2       Adelie  Torgersen            40.3           18.0              195.0   \n",
      "3       Adelie  Torgersen            41.1           17.0              190.0   \n",
      "4       Adelie  Torgersen            36.7           19.3              193.0   \n",
      "..         ...        ...             ...            ...                ...   \n",
      "339  Chinstrap      Dream            55.8           19.8              207.0   \n",
      "340  Chinstrap      Dream            43.5           18.1              202.0   \n",
      "341  Chinstrap      Dream            49.6           18.2              193.0   \n",
      "342  Chinstrap      Dream            50.8           19.0              210.0   \n",
      "343  Chinstrap      Dream            50.2           18.7              198.0   \n",
      "\n",
      "     body_mass_g     sex  year  \n",
      "0         3750.0    male  2007  \n",
      "1         3800.0  female  2007  \n",
      "2         3250.0  female  2007  \n",
      "3         3800.0    male  2007  \n",
      "4         3450.0  female  2007  \n",
      "..           ...     ...   ...  \n",
      "339       4000.0    male  2009  \n",
      "340       3400.0  female  2009  \n",
      "341       3775.0    male  2009  \n",
      "342       4100.0    male  2009  \n",
      "343       3775.0  female  2009  \n",
      "\n",
      "[344 rows x 8 columns]\n"
     ]
    }
   ],
   "source": [
    "# Missing value fill up in each column\n",
    "f_data = f_data.fillna(f_data.mode().iloc[0])\n",
    "print(f_data)"
   ]
  },
  {
   "cell_type": "code",
   "execution_count": 6,
   "id": "ac9da608",
   "metadata": {},
   "outputs": [
    {
     "name": "stdout",
     "output_type": "stream",
     "text": [
      "       bill_length_mm  bill_depth_mm  flipper_length_mm  body_mass_g  \\\n",
      "count      344.000000     344.000000         344.000000   344.000000   \n",
      "mean        43.905523      17.150291         200.851744  4199.418605   \n",
      "std          5.447882       1.969061          14.045266   800.197923   \n",
      "min         32.100000      13.100000         172.000000  2700.000000   \n",
      "25%         39.275000      15.600000         190.000000  3550.000000   \n",
      "50%         44.250000      17.300000         197.000000  4025.000000   \n",
      "75%         48.500000      18.700000         213.000000  4750.000000   \n",
      "max         59.600000      21.500000         231.000000  6300.000000   \n",
      "\n",
      "              year  \n",
      "count   344.000000  \n",
      "mean   2008.029070  \n",
      "std       0.818356  \n",
      "min    2007.000000  \n",
      "25%    2007.000000  \n",
      "50%    2008.000000  \n",
      "75%    2009.000000  \n",
      "max    2009.000000  \n"
     ]
    }
   ],
   "source": [
    "# Description of statistics\n",
    "print(f_data.describe())"
   ]
  },
  {
   "cell_type": "code",
   "execution_count": 7,
   "id": "ba4c16d4",
   "metadata": {},
   "outputs": [],
   "source": [
    "# Convert features with string datatype to categorical \n",
    "species = {'Adelie': 0, 'Gentoo': 1, 'Chinstrap': 2}\n",
    "island = {'Torgersen': 0, 'Biscoe': 1, 'Dream': 2}\n",
    "sex = {'male': 0, 'female': 1}\n",
    "\n",
    "f_data['species'] = f_data['species'].map(species)\n",
    "f_data['island'] = f_data['island'].map(island)\n",
    "f_data['sex'] = f_data['sex'].map(sex)"
   ]
  },
  {
   "cell_type": "code",
   "execution_count": 8,
   "id": "af4a3159",
   "metadata": {},
   "outputs": [],
   "source": [
    "# Normalize non-categorical features\n",
    "def normalizing(column):\n",
    "    maximum_value = column.max()\n",
    "    minimum_value = column.min()\n",
    "    a = column - minimum_value\n",
    "    b = maximum_value - minimum_value\n",
    "    column = a / b\n",
    "    return column"
   ]
  },
  {
   "cell_type": "code",
   "execution_count": 9,
   "id": "dfb11ae3",
   "metadata": {},
   "outputs": [],
   "source": [
    "# Passing the features to the normalizing function \n",
    "f_data = f_data.drop(['year'], axis=1)\n",
    "f_data['bill_length_mm'] = normalizing(f_data[\"bill_length_mm\"])\n",
    "f_data['bill_depth_mm'] = normalizing(f_data[\"bill_depth_mm\"])\n",
    "f_data['flipper_length_mm'] = normalizing(f_data[\"flipper_length_mm\"])\n",
    "f_data['body_mass_g'] = normalizing(f_data[\"body_mass_g\"])"
   ]
  },
  {
   "cell_type": "code",
   "execution_count": 10,
   "id": "58d82a82",
   "metadata": {},
   "outputs": [],
   "source": [
    "#Choose your attribute and target abd data matrix\n",
    "X = f_data.drop('sex', axis=1).values\n",
    "y = f_data['sex'].values\n",
    "\n",
    "datasample = len(f_data)\n",
    "train_data = int(datasample * 0.8)\n",
    "test_data = datasample - train_data\n",
    "\n",
    "X_train = X[:train_data]\n",
    "y_train = y[:train_data]\n",
    "X_test = X[train_data:]\n",
    "y_test = y[train_data:]"
   ]
  },
  {
   "cell_type": "code",
   "execution_count": 11,
   "id": "8dc25b35",
   "metadata": {},
   "outputs": [
    {
     "name": "stdout",
     "output_type": "stream",
     "text": [
      "X_train shape: (275, 6)\n",
      "y_train shape: (275,)\n",
      "X_test shape: (69, 6)\n",
      "y_test shape: (69,)\n"
     ]
    }
   ],
   "source": [
    "# Print the shape of X_train, y_train, X_test, y_test\n",
    "\n",
    "print(\"X_train shape:\", X_train.shape)\n",
    "print(\"y_train shape:\", y_train.shape)\n",
    "print(\"X_test shape:\", X_test.shape)\n",
    "print(\"y_test shape:\", y_test.shape)"
   ]
  },
  {
   "cell_type": "code",
   "execution_count": 19,
   "id": "56ac1489",
   "metadata": {},
   "outputs": [],
   "source": [
    "# Define Logistic Regression class \n",
    "class LogitRegression():\n",
    "    \n",
    "    def __init__(self, learning_rate, iterations_num):\n",
    "        self.learning_rate = learning_rate\n",
    "        self.iterations_num = iterations_num\n",
    "        \n",
    "    def fit(self, X, y):\n",
    "        self.N, self.d = X.shape\n",
    "        self.weights = np.random.uniform(0, 1, self.d)\n",
    "        self.bias = 0\n",
    "        self.loss = []\n",
    "        self.accuracy = []\n",
    "        for i in range(self.iterations_num):\n",
    "            grad_w, grad_b = self.gradient_descent(X, y)\n",
    "            self.weights -= self.learning_rate * grad_w\n",
    "            self.bias -= self.learning_rate * grad_b\n",
    "            loss = self.cost(X, y)\n",
    "            self.loss.append(loss)\n",
    "            accuracy = self.evaluate(X, y)\n",
    "            self.accuracy.append(accuracy)\n",
    "            if i % 10000 == 0:\n",
    "                print(\"Iteration : {}\".format(i))\n",
    "                print(\"Loss = {}\".format(loss))\n",
    "                print(\"Accuracy = {}%\".format(accuracy))\n",
    "                \n",
    "    def sigmoid(self, z):\n",
    "        return 1.0 / (1 + np.exp(-z))\n",
    "    \n",
    "    def cost(self, X, y):\n",
    "        z = np.dot(X, self.weights) + self.bias\n",
    "        p = self.sigmoid(z)\n",
    "        return (-1/self.N) * np.sum(y*np.log(p) + (1-y)*np.log(1-p))\n",
    "    \n",
    "    def gradient_descent(self, X, y):\n",
    "        z = np.dot(X, self.weights) + self.bias\n",
    "        p = self.sigmoid(z)\n",
    "        grad_w = np.dot(X.T, (p - y)) / self.N\n",
    "        grad_b = np.sum(p - y) / self.N\n",
    "        return grad_w, grad_b\n",
    "                 \n",
    "    def predict(self, X):\n",
    "        z = np.dot(X, self.weights) + self.bias\n",
    "        y_hat = self.sigmoid(z)\n",
    "        y_hat_labels = [1 if pr >= 0.5 else 0 for pr in y_hat]\n",
    "        return y_hat_labels\n",
    "    \n",
    "    def evaluate(self, X, y):\n",
    "        y_predict = self.predict(X)\n",
    "        accuracy = np.mean(y_predict == y) * 100\n",
    "        return accuracy\n",
    "    \n",
    "    def picklefile_save(self, filename):\n",
    "        with open(filename, 'wb') as file:\n",
    "            pickle.dump({'weights': self.weights, 'bias': self.bias}, file)\n",
    "    \n",
    "    def plot_loss_graph(self):\n",
    "        plt.plot(self.loss)\n",
    "        plt.title(\"Loss vs. Iterations Number\")\n",
    "        plt.xlabel(\"Number of Iteration\")\n",
    "        plt.ylabel(\"Loss Value\")\n",
    "        plt.show()\n",
    "            "
   ]
  },
  {
   "cell_type": "code",
   "execution_count": 20,
   "id": "180abfc1",
   "metadata": {
    "scrolled": true
   },
   "outputs": [
    {
     "name": "stdout",
     "output_type": "stream",
     "text": [
      "Iteration : 0\n",
      "Loss = 1.05406716429418\n",
      "Accuracy = 47.63636363636364%\n",
      "Iteration : 10000\n",
      "Loss = 0.6626937816343361\n",
      "Accuracy = 61.09090909090909%\n",
      "Iteration : 20000\n",
      "Loss = 0.634232343147699\n",
      "Accuracy = 66.9090909090909%\n",
      "Iteration : 30000\n",
      "Loss = 0.609513329667802\n",
      "Accuracy = 72.36363636363636%\n",
      "Iteration : 40000\n",
      "Loss = 0.587481438294735\n",
      "Accuracy = 77.0909090909091%\n",
      "Iteration : 50000\n",
      "Loss = 0.5677074642918594\n",
      "Accuracy = 80.36363636363636%\n",
      "Iteration : 60000\n",
      "Loss = 0.5498956797113541\n",
      "Accuracy = 82.18181818181817%\n",
      "Iteration : 70000\n",
      "Loss = 0.5338035470335867\n",
      "Accuracy = 84.36363636363636%\n",
      "Iteration : 80000\n",
      "Loss = 0.5192234578281429\n",
      "Accuracy = 85.0909090909091%\n",
      "Iteration : 90000\n",
      "Loss = 0.5059757921080623\n",
      "Accuracy = 85.45454545454545%\n"
     ]
    },
    {
     "data": {
      "image/png": "[encoded data removed]",
      "text/plain": [
       "<Figure size 640x480 with 1 Axes>"
      ]
     },
     "metadata": {},
     "output_type": "display_data"
    }
   ],
   "source": [
    "# Presenting the output\n",
    "model = LogitRegression(learning_rate = 1e-3, iterations_num = 100000)\n",
    "model.fit(X_train,y_train)\n",
    "model.predict(X_train)\n",
    "model.picklefile_save('Paul_Anip_logistic_regression.pkl')\n",
    "model.plot_loss_graph()"
   ]
  },
  {
   "cell_type": "code",
   "execution_count": null,
   "id": "7caa2b41",
   "metadata": {},
   "outputs": [],
   "source": []
  }
 ],
 "metadata": {
  "kernelspec": {
   "display_name": "Python 3 (ipykernel)",
   "language": "python",
   "name": "python3"
  },
  "language_info": {
   "codemirror_mode": {
    "name": "ipython",
    "version": 3
   },
   "file_extension": ".py",
   "mimetype": "text/x-python",
   "name": "python",
   "nbconvert_exporter": "python",
   "pygments_lexer": "ipython3",
   "version": "3.9.13"
  }
 },
 "nbformat": 4,
 "nbformat_minor": 5
}
